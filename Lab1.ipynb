{
 "cells": [
  {
   "cell_type": "markdown",
   "metadata": {},
   "source": [
    "# Lab 1 - Intro to Jupyter Notebooks\n",
    "\n",
    "In this assignment you will be asked to perform some basic tasks related to the operations of Jupyter notebooks. Learning these basics is important since Jupyter Notebooks will be one of the ways you will be turning in assignments this semester. All the information needed to complete this can be found in the assigned reading for this week. [Week1 Reading](https://realpython.com/jupyter-notebook-introduction/)"
   ]
  },
  {
   "cell_type": "markdown",
   "metadata": {},
   "source": [
    "### Notebook basics\n",
    "\n",
    "We will go over some basic notebook functions and after that, we will move on to learn some of the basics of Python. Try to run the following code block. Remember that the shortcut is `shift+enter`:"
   ]
  },
  {
   "cell_type": "code",
   "execution_count": 1,
   "metadata": {},
   "outputs": [
    {
     "output_type": "stream",
     "name": "stdout",
     "text": [
      "Welcome to SDA 250!\nUsing the 'insert' tab add a code block and change its type to \"markdown\" using the drop-down bar. \nIn that markdown block write a short introduction about why you are taking this course.\nDon't forget to add your name at the top as a header.\nAlso add a bullet list of the top 3 skills you want to learn in this course.\n"
     ]
    }
   ],
   "source": [
    "print(\"Welcome to SDA 250!\")\n",
    "print(\"Using the 'insert' tab add a code block and change its type to \\\"markdown\\\" using the drop-down bar. \")\n",
    "print(\"In that markdown block write a short introduction about why you are taking this course.\")\n",
    "print(\"Don't forget to add your name at the top as a header.\")\n",
    "print(\"Also add a bullet list of the top 3 skills you want to learn in this course.\")"
   ]
  },
  {
   "cell_type": "markdown",
   "metadata": {},
   "source": [
    "Great! We hope you have fun in the course while learning about using text as data and how to process it. Now that you know how to add \"markdown\" blocks, you should make sure to use them during this semester to add explanations to your code. If you want more information on how to style using markdown, go to this link: [Markdown Syntax](https://www.markdownguide.org/basic-syntax/)"
   ]
  },
  {
   "cell_type": "markdown",
   "metadata": {},
   "source": [
    "***\n",
    "Next, create a code block and use it to print whether you have any programming experience.\n",
    "\n",
    "Remember that to print in python, you use the `print()` function and put whatever you want to print in quotation marks inside the parentheses\n",
    "\n",
    "***"
   ]
  },
  {
   "cell_type": "code",
   "execution_count": 2,
   "metadata": {},
   "outputs": [
    {
     "output_type": "stream",
     "name": "stdout",
     "text": [
      "I have programming experience.\n"
     ]
    }
   ],
   "source": [
    "print(\"I have programming experience.\")"
   ]
  },
  {
   "cell_type": "markdown",
   "metadata": {},
   "source": [
    "***\n",
    "Every introduction to programming needs to start with printing the phrase \"Hello world!\". So use the `print()` function to do so below.\n",
    "***"
   ]
  },
  {
   "cell_type": "code",
   "execution_count": 3,
   "metadata": {},
   "outputs": [
    {
     "output_type": "stream",
     "name": "stdout",
     "text": [
      "Hello world!\n"
     ]
    }
   ],
   "source": [
    "print(\"Hello world!\")"
   ]
  },
  {
   "cell_type": "markdown",
   "metadata": {},
   "source": [
    "***\n",
    "Good, now that you know the two more important aspects of jupyter notebooks, why don't you delete this block since its quite useless :)\n",
    "***"
   ]
  },
  {
   "cell_type": "markdown",
   "metadata": {},
   "source": [
    "### A short introduction to Python\n",
    "\n",
    "For the last part of this lab we will have a quick look at some basic python syntax.\n",
    "\n",
    "You already learned how to print something in python using the `print()` function. Functions like print are going to allow you to interact with the data, analyze it, and modify it. But in order to use various functions, we first need to look at what **variables** are.\n",
    "\n",
    "A variable is really just a way to store information like numbers, strings of words or even whole texts. To use a variable in Python you need to give the variable a name and then give it some value."
   ]
  },
  {
   "cell_type": "markdown",
   "metadata": {},
   "source": [
    "***\n",
    "In the following code block I created two variables, one called `name` which stores a string and one called `age` which stores a number. I then print them out.\n",
    "\n",
    "Notice that in order to assign strings to a variable you need to put the string in quotation marks. Whenever Python sees something in quotation marks, it will assume that it is a string. This means that when you want to print the contents of a variable, you do not want to put it in quotation marks, since that will just print the name of the variable instead of the contents.\n",
    "\n",
    "Before running the following code block, try to understand what it does and to predict what it will output. Now that you have a prediction, go ahead and run it. Did the prediction come true?\n",
    "***"
   ]
  },
  {
   "cell_type": "code",
   "execution_count": 4,
   "metadata": {},
   "outputs": [
    {
     "output_type": "stream",
     "name": "stdout",
     "text": [
      "sam\n21\nname\nage\n"
     ]
    }
   ],
   "source": [
    "name = \"sam\"\n",
    "age = 21\n",
    "\n",
    "print(name)\n",
    "print(age)\n",
    "\n",
    "# if we put quotation marks around the variable name it will just print the name of the variable\n",
    "print(\"name\")\n",
    "print(\"age\")"
   ]
  },
  {
   "cell_type": "markdown",
   "metadata": {},
   "source": [
    "Take note of the 'comment' line. A comment line in python is any line that starts with a \"hashtag\". This hashtag tells Python to ignore whatever is behind the hashtag and to go to the next line."
   ]
  },
  {
   "cell_type": "markdown",
   "metadata": {},
   "source": [
    "***\n",
    "Now create another code block and create some of your own variables and give them a value. Then Ppint the variables and use comments to predict what they will print. Also, try to put quotation marks around the variable name and predict what it will print.\n",
    "***"
   ]
  },
  {
   "cell_type": "code",
   "execution_count": 5,
   "metadata": {},
   "outputs": [
    {
     "output_type": "stream",
     "name": "stdout",
     "text": [
      "hi\n10\na\nb\n"
     ]
    }
   ],
   "source": [
    "a = \"hi\"\n",
    "b = 10\n",
    "\n",
    "print(a) #this will print hi\n",
    "print(b) #this will print 10\n",
    "print(\"a\") #this will print a\n",
    "print(\"b\") #this will print b"
   ]
  },
  {
   "cell_type": "markdown",
   "metadata": {},
   "source": [
    "***\n",
    "Now that you are familiar with variables, comments, and how to print we will move on to some basic math operations. Python supports the basic math operators `+`, `-`, `*` and `/` \n",
    "which stand for addition, subtraction, multiplication and division. Try to predict the answers of the following print statements before running them. Insert your predictions in the comments __before__ running them!\n",
    "***"
   ]
  },
  {
   "cell_type": "code",
   "execution_count": 6,
   "metadata": {},
   "outputs": [
    {
     "output_type": "stream",
     "name": "stdout",
     "text": [
      "3\n"
     ]
    }
   ],
   "source": [
    "# this will print: 3\n",
    "print(1+2)"
   ]
  },
  {
   "cell_type": "code",
   "execution_count": 7,
   "metadata": {},
   "outputs": [
    {
     "output_type": "stream",
     "name": "stdout",
     "text": [
      "12\n"
     ]
    }
   ],
   "source": [
    "# this will print: 12\n",
    "print(3*4)"
   ]
  },
  {
   "cell_type": "code",
   "execution_count": 8,
   "metadata": {},
   "outputs": [
    {
     "output_type": "stream",
     "name": "stdout",
     "text": [
      "5\n"
     ]
    }
   ],
   "source": [
    "x = 10\n",
    "y = 5\n",
    "\n",
    "# this will print: 5\n",
    "print(x - y)"
   ]
  },
  {
   "cell_type": "code",
   "execution_count": 9,
   "metadata": {},
   "outputs": [
    {
     "output_type": "stream",
     "name": "stdout",
     "text": [
      "15\nnumber2\n5.0\n"
     ]
    }
   ],
   "source": [
    "number1 = 15\n",
    "number2 = 3\n",
    "result = number1 / number2\n",
    "\n",
    "# this will print: 15\n",
    "print(number1)\n",
    "\n",
    "# this will print: number2\n",
    "print(\"number2\")\n",
    "\n",
    "# this will print: 5\n",
    "print(result)"
   ]
  },
  {
   "cell_type": "markdown",
   "metadata": {},
   "source": [
    "Before doing the last exercise of this lab we will go over a special use of \"+\" in python. Besides using it to add two numbers we can use the \"+\" operator to glue together two strings. This special use is called ***string concatenation***."
   ]
  },
  {
   "cell_type": "code",
   "execution_count": 10,
   "metadata": {},
   "outputs": [
    {
     "output_type": "stream",
     "name": "stdout",
     "text": [
      "TaylorWilliams\n"
     ]
    }
   ],
   "source": [
    "firstName = \"Taylor\"\n",
    "lastName = \"Williams\"\n",
    "fullName = firstName + lastName\n",
    "\n",
    "# this will print: TaylorWilliams\n",
    "print(fullName)"
   ]
  },
  {
   "cell_type": "markdown",
   "metadata": {},
   "source": [
    "If you predicted that it would print \"Taylor Williams\" then you may be a bit confused why it didn't, but don't worry. A computer is very particular about what it does. You need to specify everything exactly... down to the spaces that you want it to print. Because I told Python to glue together \"Taylor\" and \"Williams\" that is exactly what Python did. Since it did not see a space in either of the strings it didn't print it. So if you wanted to print \"Taylor Williams\" then you need to add the space like I do in the next code block:"
   ]
  },
  {
   "cell_type": "code",
   "execution_count": 11,
   "metadata": {},
   "outputs": [
    {
     "output_type": "stream",
     "name": "stdout",
     "text": [
      "Taylor Williams\nTaylor Williams\n"
     ]
    }
   ],
   "source": [
    "fullName = firstName + \" \" + lastName\n",
    "\n",
    "# This will print the correct full name\n",
    "print(fullName)\n",
    "\n",
    "# You could also add the space in the print statement itself\n",
    "print(firstName + \" \" + lastName)"
   ]
  },
  {
   "cell_type": "markdown",
   "metadata": {},
   "source": [
    "Note the conventions for naming variables. The variable \"fullName\" starts with small case, but uses upper case to indicate where a new word starts. This is called \"camel case\". Can you see the camel hump? 🐪"
   ]
  },
  {
   "cell_type": "markdown",
   "metadata": {},
   "source": [
    "***\n",
    "As the last exercise, try to use everything you have learned in this lab. Start by making variables to store the following things: \n",
    "\n",
    "- first name\n",
    "- last name\n",
    "- preferred name\n",
    "- preferred pronouns\n",
    "- favorite number\n",
    "\n",
    "Then, print: \n",
    "- first name and last name\n",
    "- your preferred name, followed by pronouns in parentheses\n",
    "- print \"My favorite number is x\" where x is your favorite number\n",
    "\n",
    "Make sure to use string concatenation and the variable that contains it and don't just do the following: `print(\"My favorite number is 7\")`\n",
    "\n",
    "Then, do some math with your favorite number. Multiply your favorite number by itself, add your favorite number to 10, etc. Just try to use all the operators described in this lab.\n",
    "***"
   ]
  },
  {
   "cell_type": "code",
   "execution_count": 12,
   "metadata": {},
   "outputs": [
    {
     "output_type": "stream",
     "name": "stdout",
     "text": [
      "Full name: Hsin Yun Lee\n",
      "Preferred name and pronouns: Cindy, she/her\n",
      "My favorite number is 22\n",
      "number + number:  44\n",
      "number - 2:  20\n",
      "number * 3:  66\n",
      "number / 2:  11.0\n"
     ]
    }
   ],
   "source": [
    "firstName = \"Hsin Yun\"\n",
    "lastName = \"Lee\"\n",
    "preferredName = \"Cindy\"\n",
    "preferredPronouns = \"she/her\"\n",
    "favNumber = 22\n",
    "\n",
    "print(\"Full name: \" + firstName + \" \" + lastName)\n",
    "print(\"Preferred name and pronouns: \" + preferredName + \", \" + preferredPronouns)\n",
    "print(\"My favorite number is\", favNumber)\n",
    "\n",
    "# math with favNumber\n",
    "print(\"number + number: \", favNumber+favNumber)\n",
    "print(\"number - 2: \", favNumber-2)\n",
    "print(\"number * 3: \", favNumber*3)\n",
    "print(\"number / 2: \", favNumber/2)"
   ]
  },
  {
   "cell_type": "markdown",
   "metadata": {},
   "source": [
    "## Minute paper #2\n",
    "\n",
    "Enter below (using print() if you want) the contents of your minute paper for this week. The prompt is: \n",
    "* What are two ethical considerations when dealing with data?\n"
   ]
  },
  {
   "cell_type": "code",
   "execution_count": 13,
   "metadata": {},
   "outputs": [
    {
     "output_type": "stream",
     "name": "stdout",
     "text": [
      "The two ethical considerations I thought of when dealing with data is asking for consent and the non-anonymity of public data.\nIn an instance where you would need to scrape social media or sites to get data, say for sentiment analysis, the researchers would not be able to ask the people for consent. This poses the question of 'What if some people do not want their post to be used in the study?'\nFor the non-anonymity of public data, this poses the question of whether it is okay to use any data as long as it’s public. For example, if you take pictures of people from Facebook, you might be able to 3D reconstruct their face just from what they have on the platform. Other examples include people scraping social media sites for data and these data may have names attached to them. If the name is not very common, it would be very easy to pinpoint exactly who wrote the post.\n"
     ]
    }
   ],
   "source": [
    "print(\"The two ethical considerations I thought of when dealing with data is asking for consent and the non-anonymity of public data.\")\n",
    "print(\"In an instance where you would need to scrape social media or sites to get data, say for sentiment analysis, the researchers would not be able to ask the people for consent. This poses the question of 'What if some people do not want their post to be used in the study?'\")\n",
    "print(\"For the non-anonymity of public data, this poses the question of whether it is okay to use any data as long as it’s public. For example, if you take pictures of people from Facebook, you might be able to 3D reconstruct their face just from what they have on the platform. Other examples include people scraping social media sites for data and these data may have names attached to them. If the name is not very common, it would be very easy to pinpoint exactly who wrote the post.\")"
   ]
  },
  {
   "cell_type": "markdown",
   "metadata": {},
   "source": [
    "That is the end of the lab! 👏\n",
    "\n",
    "If you want to learn more Python on your own, this is a good resource: [Learn Python](https://www.learnpython.org/)"
   ]
  }
 ],
 "metadata": {
  "kernelspec": {
   "display_name": "Python 3",
   "language": "python",
   "name": "python3"
  },
  "language_info": {
   "codemirror_mode": {
    "name": "ipython",
    "version": 3
   },
   "file_extension": ".py",
   "mimetype": "text/x-python",
   "name": "python",
   "nbconvert_exporter": "python",
   "pygments_lexer": "ipython3",
   "version": "3.7.9-final"
  }
 },
 "nbformat": 4,
 "nbformat_minor": 4
}